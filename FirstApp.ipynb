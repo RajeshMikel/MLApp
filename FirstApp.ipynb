{
 "cells": [
  {
   "cell_type": "code",
   "execution_count": 1,
   "id": "93593c62",
   "metadata": {},
   "outputs": [],
   "source": [
    "import ipywidgets as widgets\n",
    "from ipywidgets import *\n",
    "from fastai.vision.all import *"
   ]
  },
  {
   "cell_type": "code",
   "execution_count": 2,
   "id": "df8bf78b",
   "metadata": {},
   "outputs": [],
   "source": [
    "def is_cat(x): return x[0].isupper()"
   ]
  },
  {
   "cell_type": "code",
   "execution_count": 3,
   "id": "a6c45160",
   "metadata": {},
   "outputs": [],
   "source": [
    "# learn_inf = load_learner(os.path.abspath('/notebooks/clean/export.pkl'))\n",
    "learn_inf = load_learner('export.pkl')"
   ]
  },
  {
   "cell_type": "code",
   "execution_count": 4,
   "id": "ec8e951d",
   "metadata": {},
   "outputs": [],
   "source": [
    "btn_run = widgets.Button(description='Check if Cat')\n",
    "# btn_run"
   ]
  },
  {
   "cell_type": "code",
   "execution_count": 5,
   "id": "70974261",
   "metadata": {
    "gradient": {
     "editing": false,
     "execution_count": 4,
     "id": "70974261",
     "kernelId": ""
    }
   },
   "outputs": [],
   "source": [
    "def on_click_check(change):\n",
    "     img = PILImage.create(uploader.data[-1])\n",
    "     out_pl.clear_output()\n",
    "     with out_pl: display(img.to_thumb(128,128))\n",
    "     is_cat_flag,_,probs = learn_inf.predict(img)\n",
    "     lbl_pred.value = f'Prediction: {is_cat_flag}'\n",
    "\n",
    "btn_run.on_click(on_click_check)"
   ]
  },
  {
   "cell_type": "code",
   "execution_count": 6,
   "id": "d7e125a3",
   "metadata": {
    "gradient": {
     "editing": false,
     "execution_count": 3,
     "id": "d7e125a3",
     "kernelId": ""
    }
   },
   "outputs": [],
   "source": [
    "out_pl = widgets.Output()\n",
    "# out_pl.clear_output()\n",
    "# with out_pl: display(img.to_thumb(128,128))\n",
    "# out_pl"
   ]
  },
  {
   "cell_type": "code",
   "execution_count": 7,
   "id": "c00822d5",
   "metadata": {
    "gradient": {
     "editing": false,
     "execution_count": 6,
     "id": "c00822d5",
     "kernelId": ""
    }
   },
   "outputs": [],
   "source": [
    "uploader = widgets.FileUpload()\n",
    "# uploader"
   ]
  },
  {
   "cell_type": "code",
   "execution_count": 8,
   "id": "a24e69b0",
   "metadata": {
    "gradient": {
     "editing": false,
     "execution_count": 9,
     "id": "a24e69b0",
     "kernelId": ""
    }
   },
   "outputs": [],
   "source": [
    "lbl_pred = widgets.Label()"
   ]
  },
  {
   "cell_type": "code",
   "execution_count": 9,
   "id": "c0fb97d2",
   "metadata": {
    "gradient": {
     "editing": false,
     "execution_count": 10,
     "id": "c0fb97d2",
     "kernelId": ""
    }
   },
   "outputs": [
    {
     "data": {
      "application/vnd.jupyter.widget-view+json": {
       "model_id": "3996aeb65b984c038f1b3f447f9a69db",
       "version_major": 2,
       "version_minor": 0
      },
      "text/plain": [
       "VBox(children=(Label(value='Select your image!'), FileUpload(value={}, description='Upload'), Button(descripti…"
      ]
     },
     "metadata": {},
     "output_type": "display_data"
    },
    {
     "data": {
      "text/html": [],
      "text/plain": [
       "<IPython.core.display.HTML object>"
      ]
     },
     "metadata": {},
     "output_type": "display_data"
    }
   ],
   "source": [
    "VBox([widgets.Label('Select your image!'),\n",
    " uploader, btn_run, out_pl, lbl_pred])"
   ]
  }
 ],
 "metadata": {
  "kernelspec": {
   "display_name": "Python 3 (ipykernel)",
   "language": "python",
   "name": "python3"
  },
  "language_info": {
   "codemirror_mode": {
    "name": "ipython",
    "version": 3
   },
   "file_extension": ".py",
   "mimetype": "text/x-python",
   "name": "python",
   "nbconvert_exporter": "python",
   "pygments_lexer": "ipython3",
   "version": "3.7.11"
  }
 },
 "nbformat": 4,
 "nbformat_minor": 5
}
